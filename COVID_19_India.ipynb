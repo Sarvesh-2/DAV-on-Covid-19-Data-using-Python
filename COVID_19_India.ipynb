{
  "nbformat": 4,
  "nbformat_minor": 0,
  "metadata": {
    "colab": {
      "name": "COVID-19_India.ipynb",
      "provenance": [],
      "collapsed_sections": [
        "L0Tz9pQgl2I1",
        "AwosStQWgl2J",
        "fFcs_KLO7h_d"
      ]
    },
    "kernelspec": {
      "name": "python3",
      "display_name": "Python 3"
    },
    "language_info": {
      "name": "python"
    }
  },
  "cells": [
    {
      "cell_type": "markdown",
      "metadata": {
        "id": "rMmXEql9hOaY"
      },
      "source": [
        " **DAV Team Project**\n",
        "\n",
        "SUBMITTED BY:\n",
        " \n",
        "Sambit Basu , AB-1264 , 19001570034\n",
        "\n",
        "Sarvesh Sharma , AB-1271 , 19001570036\n",
        "\n",
        "Tushar Gaurav , AB-1253 , 19001570050\n",
        "\n",
        "Program Name: B.Sc. (Hons.) Computer Science\n",
        " \n",
        "Semester: 5\n",
        "\n",
        "Title of The Paper: DATA ANALYSIS AND VISUALISATION (DAV)"
      ]
    },
    {
      "cell_type": "markdown",
      "metadata": {
        "id": "zrfnkVFA7l20"
      },
      "source": [
        "#COVID-19 India"
      ]
    },
    {
      "cell_type": "markdown",
      "metadata": {
        "id": "9IkOHoES9s2V"
      },
      "source": [
        "##Importing important libraries and the dataset"
      ]
    },
    {
      "cell_type": "code",
      "metadata": {
        "id": "y1AZgKxk9Gsr"
      },
      "source": [
        "import pandas as pd\n",
        "import numpy as np\n",
        "import matplotlib.pyplot as plt\n",
        "import matplotlib\n",
        "import datetime\n",
        "import seaborn as sns"
      ],
      "execution_count": null,
      "outputs": []
    },
    {
      "cell_type": "code",
      "metadata": {
        "colab": {
          "resources": {
            "http://localhost:8080/nbextensions/google.colab/files.js": {
              "data": "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",
              "ok": true,
              "headers": [
                [
                  "content-type",
                  "application/javascript"
                ]
              ],
              "status": 200,
              "status_text": ""
            }
          },
          "base_uri": "https://localhost:8080/",
          "height": 73
        },
        "id": "WJSYcqyO7ngE",
        "outputId": "c0fccba4-74a4-48a9-a2c1-d70a662ed994"
      },
      "source": [
        "from google.colab import files\n",
        "uploaded=files.upload()"
      ],
      "execution_count": null,
      "outputs": [
        {
          "output_type": "display_data",
          "data": {
            "text/html": [
              "\n",
              "     <input type=\"file\" id=\"files-f914c413-fded-436a-9852-d59c0d3db1a1\" name=\"files[]\" multiple disabled\n",
              "        style=\"border:none\" />\n",
              "     <output id=\"result-f914c413-fded-436a-9852-d59c0d3db1a1\">\n",
              "      Upload widget is only available when the cell has been executed in the\n",
              "      current browser session. Please rerun this cell to enable.\n",
              "      </output>\n",
              "      <script src=\"/nbextensions/google.colab/files.js\"></script> "
            ],
            "text/plain": [
              "<IPython.core.display.HTML object>"
            ]
          },
          "metadata": {}
        },
        {
          "output_type": "stream",
          "name": "stdout",
          "text": [
            "Saving covid_19_india.csv to covid_19_india.csv\n"
          ]
        }
      ]
    },
    {
      "cell_type": "code",
      "metadata": {
        "colab": {
          "base_uri": "https://localhost:8080/",
          "height": 309
        },
        "id": "2t04t_DM9EOL",
        "outputId": "6a02774f-32bd-41f4-f5a1-fa1cc46021e5"
      },
      "source": [
        "covid=pd.read_csv('/content/covid_19_india.csv')\n",
        "covid.head()"
      ],
      "execution_count": null,
      "outputs": [
        {
          "output_type": "execute_result",
          "data": {
            "text/html": [
              "<div>\n",
              "<style scoped>\n",
              "    .dataframe tbody tr th:only-of-type {\n",
              "        vertical-align: middle;\n",
              "    }\n",
              "\n",
              "    .dataframe tbody tr th {\n",
              "        vertical-align: top;\n",
              "    }\n",
              "\n",
              "    .dataframe thead th {\n",
              "        text-align: right;\n",
              "    }\n",
              "</style>\n",
              "<table border=\"1\" class=\"dataframe\">\n",
              "  <thead>\n",
              "    <tr style=\"text-align: right;\">\n",
              "      <th></th>\n",
              "      <th>Sno</th>\n",
              "      <th>Date</th>\n",
              "      <th>Time</th>\n",
              "      <th>State/UnionTerritory</th>\n",
              "      <th>ConfirmedIndianNational</th>\n",
              "      <th>ConfirmedForeignNational</th>\n",
              "      <th>Cured</th>\n",
              "      <th>Deaths</th>\n",
              "      <th>Confirmed</th>\n",
              "    </tr>\n",
              "  </thead>\n",
              "  <tbody>\n",
              "    <tr>\n",
              "      <th>0</th>\n",
              "      <td>1</td>\n",
              "      <td>2020-01-30</td>\n",
              "      <td>6:00 PM</td>\n",
              "      <td>Kerala</td>\n",
              "      <td>1</td>\n",
              "      <td>0</td>\n",
              "      <td>0</td>\n",
              "      <td>0</td>\n",
              "      <td>1</td>\n",
              "    </tr>\n",
              "    <tr>\n",
              "      <th>1</th>\n",
              "      <td>2</td>\n",
              "      <td>2020-01-31</td>\n",
              "      <td>6:00 PM</td>\n",
              "      <td>Kerala</td>\n",
              "      <td>1</td>\n",
              "      <td>0</td>\n",
              "      <td>0</td>\n",
              "      <td>0</td>\n",
              "      <td>1</td>\n",
              "    </tr>\n",
              "    <tr>\n",
              "      <th>2</th>\n",
              "      <td>3</td>\n",
              "      <td>2020-02-01</td>\n",
              "      <td>6:00 PM</td>\n",
              "      <td>Kerala</td>\n",
              "      <td>2</td>\n",
              "      <td>0</td>\n",
              "      <td>0</td>\n",
              "      <td>0</td>\n",
              "      <td>2</td>\n",
              "    </tr>\n",
              "    <tr>\n",
              "      <th>3</th>\n",
              "      <td>4</td>\n",
              "      <td>2020-02-02</td>\n",
              "      <td>6:00 PM</td>\n",
              "      <td>Kerala</td>\n",
              "      <td>3</td>\n",
              "      <td>0</td>\n",
              "      <td>0</td>\n",
              "      <td>0</td>\n",
              "      <td>3</td>\n",
              "    </tr>\n",
              "    <tr>\n",
              "      <th>4</th>\n",
              "      <td>5</td>\n",
              "      <td>2020-02-03</td>\n",
              "      <td>6:00 PM</td>\n",
              "      <td>Kerala</td>\n",
              "      <td>3</td>\n",
              "      <td>0</td>\n",
              "      <td>0</td>\n",
              "      <td>0</td>\n",
              "      <td>3</td>\n",
              "    </tr>\n",
              "  </tbody>\n",
              "</table>\n",
              "</div>"
            ],
            "text/plain": [
              "   Sno        Date     Time  ... Cured Deaths Confirmed\n",
              "0    1  2020-01-30  6:00 PM  ...     0      0         1\n",
              "1    2  2020-01-31  6:00 PM  ...     0      0         1\n",
              "2    3  2020-02-01  6:00 PM  ...     0      0         2\n",
              "3    4  2020-02-02  6:00 PM  ...     0      0         3\n",
              "4    5  2020-02-03  6:00 PM  ...     0      0         3\n",
              "\n",
              "[5 rows x 9 columns]"
            ]
          },
          "metadata": {},
          "execution_count": 3
        }
      ]
    },
    {
      "cell_type": "code",
      "metadata": {
        "id": "X7OwdwfNOnZl"
      },
      "source": [
        "plt.rc('figure',figsize=(13,13))\n",
        "font_options={'family':'serif','weight':'normal','size':15}\n",
        "plt.rc('font',**font_options)"
      ],
      "execution_count": null,
      "outputs": []
    },
    {
      "cell_type": "markdown",
      "metadata": {
        "id": "Rq9vNCGEdB-7"
      },
      "source": [
        "##The work"
      ]
    },
    {
      "cell_type": "code",
      "metadata": {
        "id": "Sa9iKzMxbLL6"
      },
      "source": [
        "covid.drop(['ConfirmedIndianNational','ConfirmedForeignNational','Sno','Time'],inplace=True,axis=1)"
      ],
      "execution_count": null,
      "outputs": []
    },
    {
      "cell_type": "code",
      "metadata": {
        "colab": {
          "base_uri": "https://localhost:8080/",
          "height": 202
        },
        "id": "NwEAMDna_9EI",
        "outputId": "3ac4de45-075d-4628-ff5e-9fb3a7080f91"
      },
      "source": [
        "covid.tail()"
      ],
      "execution_count": null,
      "outputs": [
        {
          "output_type": "execute_result",
          "data": {
            "text/html": [
              "<div>\n",
              "<style scoped>\n",
              "    .dataframe tbody tr th:only-of-type {\n",
              "        vertical-align: middle;\n",
              "    }\n",
              "\n",
              "    .dataframe tbody tr th {\n",
              "        vertical-align: top;\n",
              "    }\n",
              "\n",
              "    .dataframe thead th {\n",
              "        text-align: right;\n",
              "    }\n",
              "</style>\n",
              "<table border=\"1\" class=\"dataframe\">\n",
              "  <thead>\n",
              "    <tr style=\"text-align: right;\">\n",
              "      <th></th>\n",
              "      <th>Date</th>\n",
              "      <th>State/UnionTerritory</th>\n",
              "      <th>Cured</th>\n",
              "      <th>Deaths</th>\n",
              "      <th>Confirmed</th>\n",
              "    </tr>\n",
              "  </thead>\n",
              "  <tbody>\n",
              "    <tr>\n",
              "      <th>18105</th>\n",
              "      <td>2021-08-11</td>\n",
              "      <td>Telangana</td>\n",
              "      <td>638410</td>\n",
              "      <td>3831</td>\n",
              "      <td>650353</td>\n",
              "    </tr>\n",
              "    <tr>\n",
              "      <th>18106</th>\n",
              "      <td>2021-08-11</td>\n",
              "      <td>Tripura</td>\n",
              "      <td>77811</td>\n",
              "      <td>773</td>\n",
              "      <td>80660</td>\n",
              "    </tr>\n",
              "    <tr>\n",
              "      <th>18107</th>\n",
              "      <td>2021-08-11</td>\n",
              "      <td>Uttarakhand</td>\n",
              "      <td>334650</td>\n",
              "      <td>7368</td>\n",
              "      <td>342462</td>\n",
              "    </tr>\n",
              "    <tr>\n",
              "      <th>18108</th>\n",
              "      <td>2021-08-11</td>\n",
              "      <td>Uttar Pradesh</td>\n",
              "      <td>1685492</td>\n",
              "      <td>22775</td>\n",
              "      <td>1708812</td>\n",
              "    </tr>\n",
              "    <tr>\n",
              "      <th>18109</th>\n",
              "      <td>2021-08-11</td>\n",
              "      <td>West Bengal</td>\n",
              "      <td>1506532</td>\n",
              "      <td>18252</td>\n",
              "      <td>1534999</td>\n",
              "    </tr>\n",
              "  </tbody>\n",
              "</table>\n",
              "</div>"
            ],
            "text/plain": [
              "             Date State/UnionTerritory    Cured  Deaths  Confirmed\n",
              "18105  2021-08-11            Telangana   638410    3831     650353\n",
              "18106  2021-08-11              Tripura    77811     773      80660\n",
              "18107  2021-08-11          Uttarakhand   334650    7368     342462\n",
              "18108  2021-08-11        Uttar Pradesh  1685492   22775    1708812\n",
              "18109  2021-08-11          West Bengal  1506532   18252    1534999"
            ]
          },
          "metadata": {},
          "execution_count": 6
        }
      ]
    },
    {
      "cell_type": "markdown",
      "metadata": {
        "id": "L0Tz9pQgl2I1"
      },
      "source": [
        "###Q1"
      ]
    },
    {
      "cell_type": "markdown",
      "metadata": {
        "id": "2Uz1GgeabwW4"
      },
      "source": [
        "For each Indian state, find maximum cases reported for confirmed, deaths and recovered individually along with date on which these cases were reported for any three months of year 2020. Display the result in the self-explanatory format."
      ]
    },
    {
      "cell_type": "code",
      "metadata": {
        "id": "hkgYVYCDl3hG"
      },
      "source": [
        "q1=pd.DataFrame(columns=[['August','August','August','August','August','August',\n",
        "                          'September','September','September','September','September','September',\n",
        "                         'October','October','October','October','October','October'],\n",
        "                         ['Confirmed','Confirmed','Deaths','Deaths','Cured',\n",
        "                          'Cured','Confirmed','Confirmed','Deaths','Deaths',\n",
        "                          'Cured','Cured','Confirmed','Confirmed','Deaths',\n",
        "                          'Deaths','Cured','Cured'],\n",
        "                         ['Date','Number','Date','Number','Date','Number',\n",
        "                          'Date','Number','Date','Number','Date','Number',\n",
        "                          'Date','Number','Date','Number','Date','Number']])"
      ],
      "execution_count": null,
      "outputs": []
    },
    {
      "cell_type": "code",
      "metadata": {
        "colab": {
          "base_uri": "https://localhost:8080/",
          "height": 161
        },
        "id": "OjjWKDg2OWui",
        "outputId": "914ebcdf-088d-490d-ae3d-06e4c2f44d1b"
      },
      "source": [
        "q1.index.name='State'\n",
        "q1"
      ],
      "execution_count": null,
      "outputs": [
        {
          "output_type": "execute_result",
          "data": {
            "text/html": [
              "<div>\n",
              "<style scoped>\n",
              "    .dataframe tbody tr th:only-of-type {\n",
              "        vertical-align: middle;\n",
              "    }\n",
              "\n",
              "    .dataframe tbody tr th {\n",
              "        vertical-align: top;\n",
              "    }\n",
              "\n",
              "    .dataframe thead tr th {\n",
              "        text-align: left;\n",
              "    }\n",
              "\n",
              "    .dataframe thead tr:last-of-type th {\n",
              "        text-align: right;\n",
              "    }\n",
              "</style>\n",
              "<table border=\"1\" class=\"dataframe\">\n",
              "  <thead>\n",
              "    <tr>\n",
              "      <th></th>\n",
              "      <th colspan=\"6\" halign=\"left\">August</th>\n",
              "      <th colspan=\"6\" halign=\"left\">September</th>\n",
              "      <th colspan=\"6\" halign=\"left\">October</th>\n",
              "    </tr>\n",
              "    <tr>\n",
              "      <th></th>\n",
              "      <th colspan=\"2\" halign=\"left\">Confirmed</th>\n",
              "      <th colspan=\"2\" halign=\"left\">Deaths</th>\n",
              "      <th colspan=\"2\" halign=\"left\">Cured</th>\n",
              "      <th colspan=\"2\" halign=\"left\">Confirmed</th>\n",
              "      <th colspan=\"2\" halign=\"left\">Deaths</th>\n",
              "      <th colspan=\"2\" halign=\"left\">Cured</th>\n",
              "      <th colspan=\"2\" halign=\"left\">Confirmed</th>\n",
              "      <th colspan=\"2\" halign=\"left\">Deaths</th>\n",
              "      <th colspan=\"2\" halign=\"left\">Cured</th>\n",
              "    </tr>\n",
              "    <tr>\n",
              "      <th></th>\n",
              "      <th>Date</th>\n",
              "      <th>Number</th>\n",
              "      <th>Date</th>\n",
              "      <th>Number</th>\n",
              "      <th>Date</th>\n",
              "      <th>Number</th>\n",
              "      <th>Date</th>\n",
              "      <th>Number</th>\n",
              "      <th>Date</th>\n",
              "      <th>Number</th>\n",
              "      <th>Date</th>\n",
              "      <th>Number</th>\n",
              "      <th>Date</th>\n",
              "      <th>Number</th>\n",
              "      <th>Date</th>\n",
              "      <th>Number</th>\n",
              "      <th>Date</th>\n",
              "      <th>Number</th>\n",
              "    </tr>\n",
              "    <tr>\n",
              "      <th>State</th>\n",
              "      <th></th>\n",
              "      <th></th>\n",
              "      <th></th>\n",
              "      <th></th>\n",
              "      <th></th>\n",
              "      <th></th>\n",
              "      <th></th>\n",
              "      <th></th>\n",
              "      <th></th>\n",
              "      <th></th>\n",
              "      <th></th>\n",
              "      <th></th>\n",
              "      <th></th>\n",
              "      <th></th>\n",
              "      <th></th>\n",
              "      <th></th>\n",
              "      <th></th>\n",
              "      <th></th>\n",
              "    </tr>\n",
              "  </thead>\n",
              "  <tbody>\n",
              "  </tbody>\n",
              "</table>\n",
              "</div>"
            ],
            "text/plain": [
              "Empty DataFrame\n",
              "Columns: [(August, Confirmed, Date), (August, Confirmed, Number), (August, Deaths, Date), (August, Deaths, Number), (August, Cured, Date), (August, Cured, Number), (September, Confirmed, Date), (September, Confirmed, Number), (September, Deaths, Date), (September, Deaths, Number), (September, Cured, Date), (September, Cured, Number), (October, Confirmed, Date), (October, Confirmed, Number), (October, Deaths, Date), (October, Deaths, Number), (October, Cured, Date), (October, Cured, Number)]\n",
              "Index: []"
            ]
          },
          "metadata": {},
          "execution_count": 17
        }
      ]
    },
    {
      "cell_type": "code",
      "metadata": {
        "colab": {
          "base_uri": "https://localhost:8080/"
        },
        "id": "f52WVYOA_0Bv",
        "outputId": "aac6c7db-f0d2-46bd-c39c-774d2882f11b"
      },
      "source": [
        "for sta in covid[(covid['Date']==datetime.date(2020,8,31)) | (covid['Date']==datetime.date(2020,9,30)) | (covid['Date']==datetime.date(2020,10,31))]['State/UnionTerritory'].unique():\n",
        "  Li=[]\n",
        "  for z in range(8,11):\n",
        "    if z==9:\n",
        "      fin=31\n",
        "    else:\n",
        "      fin=32\n",
        "    conf,deat,cure=pd.Series(),pd.Series(),pd.Series()\n",
        "    for d in range(2,fin):\n",
        "      conf.loc[datetime.date(2020,z,d-1)]=int(covid[(covid['State/UnionTerritory']==sta) & (covid['Date']==datetime.date(2020,z,d))].Confirmed)-int(covid[(covid['State/UnionTerritory']==sta) & (covid['Date']==datetime.date(2020,z,d-1))].Confirmed)\n",
        "      deat.loc[datetime.date(2020,z,d-1)]=int(covid[(covid['State/UnionTerritory']==sta) & (covid['Date']==datetime.date(2020,z,d))].Deaths)-int(covid[(covid['State/UnionTerritory']==sta) & (covid['Date']==datetime.date(2020,z,d-1))].Deaths)\n",
        "      cure.loc[datetime.date(2020,z,d-1)]=int(covid[(covid['State/UnionTerritory']==sta) & (covid['Date']==datetime.date(2020,z,d))].Cured)-int(covid[(covid['State/UnionTerritory']==sta) & (covid['Date']==datetime.date(2020,z,d-1))].Cured)\n",
        "    Li.extend([str(conf.idxmax()),conf.max()])\n",
        "    Li.extend([str(deat.idxmax()),deat.max()])\n",
        "    Li.extend([str(cure.idxmax()),cure.max()])\n",
        "  q1.loc[sta]=Li"
      ],
      "execution_count": null,
      "outputs": [
        {
          "output_type": "stream",
          "name": "stderr",
          "text": [
            "/usr/local/lib/python3.7/dist-packages/ipykernel_launcher.py:8: DeprecationWarning: The default dtype for empty Series will be 'object' instead of 'float64' in a future version. Specify a dtype explicitly to silence this warning.\n",
            "  \n"
          ]
        }
      ]
    },
    {
      "cell_type": "code",
      "metadata": {
        "colab": {
          "base_uri": "https://localhost:8080/",
          "height": 781
        },
        "id": "kgnnXwpdaxcE",
        "outputId": "f2dbbbc5-ac2b-45a5-f2cd-58efb5e54b6e"
      },
      "source": [
        "q1.head(12)"
      ],
      "execution_count": null,
      "outputs": [
        {
          "output_type": "execute_result",
          "data": {
            "text/html": [
              "<div>\n",
              "<style scoped>\n",
              "    .dataframe tbody tr th:only-of-type {\n",
              "        vertical-align: middle;\n",
              "    }\n",
              "\n",
              "    .dataframe tbody tr th {\n",
              "        vertical-align: top;\n",
              "    }\n",
              "\n",
              "    .dataframe thead tr th {\n",
              "        text-align: left;\n",
              "    }\n",
              "\n",
              "    .dataframe thead tr:last-of-type th {\n",
              "        text-align: right;\n",
              "    }\n",
              "</style>\n",
              "<table border=\"1\" class=\"dataframe\">\n",
              "  <thead>\n",
              "    <tr>\n",
              "      <th></th>\n",
              "      <th colspan=\"6\" halign=\"left\">August</th>\n",
              "      <th colspan=\"6\" halign=\"left\">September</th>\n",
              "      <th colspan=\"6\" halign=\"left\">October</th>\n",
              "    </tr>\n",
              "    <tr>\n",
              "      <th></th>\n",
              "      <th colspan=\"2\" halign=\"left\">Confirmed</th>\n",
              "      <th colspan=\"2\" halign=\"left\">Deaths</th>\n",
              "      <th colspan=\"2\" halign=\"left\">Cured</th>\n",
              "      <th colspan=\"2\" halign=\"left\">Confirmed</th>\n",
              "      <th colspan=\"2\" halign=\"left\">Deaths</th>\n",
              "      <th colspan=\"2\" halign=\"left\">Cured</th>\n",
              "      <th colspan=\"2\" halign=\"left\">Confirmed</th>\n",
              "      <th colspan=\"2\" halign=\"left\">Deaths</th>\n",
              "      <th colspan=\"2\" halign=\"left\">Cured</th>\n",
              "    </tr>\n",
              "    <tr>\n",
              "      <th></th>\n",
              "      <th>Date</th>\n",
              "      <th>Number</th>\n",
              "      <th>Date</th>\n",
              "      <th>Number</th>\n",
              "      <th>Date</th>\n",
              "      <th>Number</th>\n",
              "      <th>Date</th>\n",
              "      <th>Number</th>\n",
              "      <th>Date</th>\n",
              "      <th>Number</th>\n",
              "      <th>Date</th>\n",
              "      <th>Number</th>\n",
              "      <th>Date</th>\n",
              "      <th>Number</th>\n",
              "      <th>Date</th>\n",
              "      <th>Number</th>\n",
              "      <th>Date</th>\n",
              "      <th>Number</th>\n",
              "    </tr>\n",
              "    <tr>\n",
              "      <th>State</th>\n",
              "      <th></th>\n",
              "      <th></th>\n",
              "      <th></th>\n",
              "      <th></th>\n",
              "      <th></th>\n",
              "      <th></th>\n",
              "      <th></th>\n",
              "      <th></th>\n",
              "      <th></th>\n",
              "      <th></th>\n",
              "      <th></th>\n",
              "      <th></th>\n",
              "      <th></th>\n",
              "      <th></th>\n",
              "      <th></th>\n",
              "      <th></th>\n",
              "      <th></th>\n",
              "      <th></th>\n",
              "    </tr>\n",
              "  </thead>\n",
              "  <tbody>\n",
              "    <tr>\n",
              "      <th>Andaman and Nicobar Islands</th>\n",
              "      <td>2020-08-14</td>\n",
              "      <td>149</td>\n",
              "      <td>2020-08-16</td>\n",
              "      <td>4</td>\n",
              "      <td>2020-08-09</td>\n",
              "      <td>148</td>\n",
              "      <td>2020-09-06</td>\n",
              "      <td>40</td>\n",
              "      <td>2020-09-02</td>\n",
              "      <td>1</td>\n",
              "      <td>2020-09-01</td>\n",
              "      <td>67</td>\n",
              "      <td>2020-10-21</td>\n",
              "      <td>27</td>\n",
              "      <td>2020-10-05</td>\n",
              "      <td>1</td>\n",
              "      <td>2020-10-19</td>\n",
              "      <td>24</td>\n",
              "    </tr>\n",
              "    <tr>\n",
              "      <th>Andhra Pradesh</th>\n",
              "      <td>2020-08-26</td>\n",
              "      <td>10830</td>\n",
              "      <td>2020-08-08</td>\n",
              "      <td>97</td>\n",
              "      <td>2020-08-01</td>\n",
              "      <td>12750</td>\n",
              "      <td>2020-09-05</td>\n",
              "      <td>10825</td>\n",
              "      <td>2020-09-01</td>\n",
              "      <td>84</td>\n",
              "      <td>2020-09-04</td>\n",
              "      <td>12154</td>\n",
              "      <td>2020-10-01</td>\n",
              "      <td>6751</td>\n",
              "      <td>2020-10-08</td>\n",
              "      <td>42</td>\n",
              "      <td>2020-10-03</td>\n",
              "      <td>7798</td>\n",
              "    </tr>\n",
              "    <tr>\n",
              "      <th>Arunachal Pradesh</th>\n",
              "      <td>2020-08-30</td>\n",
              "      <td>157</td>\n",
              "      <td>2020-08-30</td>\n",
              "      <td>2</td>\n",
              "      <td>2020-08-24</td>\n",
              "      <td>130</td>\n",
              "      <td>2020-09-28</td>\n",
              "      <td>328</td>\n",
              "      <td>2020-09-15</td>\n",
              "      <td>2</td>\n",
              "      <td>2020-09-21</td>\n",
              "      <td>235</td>\n",
              "      <td>2020-10-09</td>\n",
              "      <td>281</td>\n",
              "      <td>2020-10-13</td>\n",
              "      <td>4</td>\n",
              "      <td>2020-10-07</td>\n",
              "      <td>431</td>\n",
              "    </tr>\n",
              "    <tr>\n",
              "      <th>Assam</th>\n",
              "      <td>2020-08-12</td>\n",
              "      <td>4593</td>\n",
              "      <td>2020-08-26</td>\n",
              "      <td>14</td>\n",
              "      <td>2020-08-23</td>\n",
              "      <td>3259</td>\n",
              "      <td>2020-09-28</td>\n",
              "      <td>3644</td>\n",
              "      <td>2020-09-12</td>\n",
              "      <td>23</td>\n",
              "      <td>2020-09-11</td>\n",
              "      <td>2628</td>\n",
              "      <td>2020-10-03</td>\n",
              "      <td>1632</td>\n",
              "      <td>2020-10-06</td>\n",
              "      <td>18</td>\n",
              "      <td>2020-10-25</td>\n",
              "      <td>2961</td>\n",
              "    </tr>\n",
              "    <tr>\n",
              "      <th>Bihar</th>\n",
              "      <td>2020-08-09</td>\n",
              "      <td>4157</td>\n",
              "      <td>2020-08-02</td>\n",
              "      <td>20</td>\n",
              "      <td>2020-08-17</td>\n",
              "      <td>4128</td>\n",
              "      <td>2020-09-02</td>\n",
              "      <td>3092</td>\n",
              "      <td>2020-09-01</td>\n",
              "      <td>39</td>\n",
              "      <td>2020-09-08</td>\n",
              "      <td>2246</td>\n",
              "      <td>2020-10-04</td>\n",
              "      <td>1727</td>\n",
              "      <td>2020-10-10</td>\n",
              "      <td>10</td>\n",
              "      <td>2020-10-05</td>\n",
              "      <td>1537</td>\n",
              "    </tr>\n",
              "    <tr>\n",
              "      <th>Chandigarh</th>\n",
              "      <td>2020-08-29</td>\n",
              "      <td>261</td>\n",
              "      <td>2020-08-30</td>\n",
              "      <td>7</td>\n",
              "      <td>2020-08-27</td>\n",
              "      <td>181</td>\n",
              "      <td>2020-09-13</td>\n",
              "      <td>449</td>\n",
              "      <td>2020-09-23</td>\n",
              "      <td>10</td>\n",
              "      <td>2020-09-22</td>\n",
              "      <td>383</td>\n",
              "      <td>2020-10-02</td>\n",
              "      <td>155</td>\n",
              "      <td>2020-10-02</td>\n",
              "      <td>5</td>\n",
              "      <td>2020-10-06</td>\n",
              "      <td>238</td>\n",
              "    </tr>\n",
              "    <tr>\n",
              "      <th>Chhattisgarh</th>\n",
              "      <td>2020-08-29</td>\n",
              "      <td>1513</td>\n",
              "      <td>2020-08-14</td>\n",
              "      <td>16</td>\n",
              "      <td>2020-08-29</td>\n",
              "      <td>709</td>\n",
              "      <td>2020-09-26</td>\n",
              "      <td>3896</td>\n",
              "      <td>2020-09-09</td>\n",
              "      <td>70</td>\n",
              "      <td>2020-09-25</td>\n",
              "      <td>8027</td>\n",
              "      <td>2020-10-09</td>\n",
              "      <td>2958</td>\n",
              "      <td>2020-10-23</td>\n",
              "      <td>58</td>\n",
              "      <td>2020-10-06</td>\n",
              "      <td>3484</td>\n",
              "    </tr>\n",
              "    <tr>\n",
              "      <th>Dadra and Nagar Haveli and Daman and Diu</th>\n",
              "      <td>2020-08-09</td>\n",
              "      <td>108</td>\n",
              "      <td>2020-08-01</td>\n",
              "      <td>0</td>\n",
              "      <td>2020-08-03</td>\n",
              "      <td>94</td>\n",
              "      <td>2020-09-05</td>\n",
              "      <td>70</td>\n",
              "      <td>2020-09-01</td>\n",
              "      <td>0</td>\n",
              "      <td>2020-09-05</td>\n",
              "      <td>54</td>\n",
              "      <td>2020-10-04</td>\n",
              "      <td>17</td>\n",
              "      <td>2020-10-01</td>\n",
              "      <td>0</td>\n",
              "      <td>2020-10-02</td>\n",
              "      <td>20</td>\n",
              "    </tr>\n",
              "    <tr>\n",
              "      <th>Delhi</th>\n",
              "      <td>2020-08-30</td>\n",
              "      <td>2024</td>\n",
              "      <td>2020-08-01</td>\n",
              "      <td>26</td>\n",
              "      <td>2020-08-29</td>\n",
              "      <td>1449</td>\n",
              "      <td>2020-09-16</td>\n",
              "      <td>4473</td>\n",
              "      <td>2020-09-29</td>\n",
              "      <td>48</td>\n",
              "      <td>2020-09-26</td>\n",
              "      <td>4476</td>\n",
              "      <td>2020-10-30</td>\n",
              "      <td>5891</td>\n",
              "      <td>2020-10-26</td>\n",
              "      <td>54</td>\n",
              "      <td>2020-10-30</td>\n",
              "      <td>4433</td>\n",
              "    </tr>\n",
              "    <tr>\n",
              "      <th>Goa</th>\n",
              "      <td>2020-08-13</td>\n",
              "      <td>570</td>\n",
              "      <td>2020-08-21</td>\n",
              "      <td>9</td>\n",
              "      <td>2020-08-22</td>\n",
              "      <td>479</td>\n",
              "      <td>2020-09-12</td>\n",
              "      <td>740</td>\n",
              "      <td>2020-09-14</td>\n",
              "      <td>14</td>\n",
              "      <td>2020-09-22</td>\n",
              "      <td>736</td>\n",
              "      <td>2020-10-01</td>\n",
              "      <td>524</td>\n",
              "      <td>2020-10-01</td>\n",
              "      <td>12</td>\n",
              "      <td>2020-10-06</td>\n",
              "      <td>594</td>\n",
              "    </tr>\n",
              "    <tr>\n",
              "      <th>Gujarat</th>\n",
              "      <td>2020-08-29</td>\n",
              "      <td>1282</td>\n",
              "      <td>2020-08-06</td>\n",
              "      <td>27</td>\n",
              "      <td>2020-08-07</td>\n",
              "      <td>1370</td>\n",
              "      <td>2020-09-25</td>\n",
              "      <td>1442</td>\n",
              "      <td>2020-09-14</td>\n",
              "      <td>17</td>\n",
              "      <td>2020-09-17</td>\n",
              "      <td>1652</td>\n",
              "      <td>2020-10-07</td>\n",
              "      <td>1473</td>\n",
              "      <td>2020-10-02</td>\n",
              "      <td>15</td>\n",
              "      <td>2020-10-07</td>\n",
              "      <td>1546</td>\n",
              "    </tr>\n",
              "    <tr>\n",
              "      <th>Haryana</th>\n",
              "      <td>2020-08-26</td>\n",
              "      <td>1397</td>\n",
              "      <td>2020-08-28</td>\n",
              "      <td>15</td>\n",
              "      <td>2020-08-26</td>\n",
              "      <td>1117</td>\n",
              "      <td>2020-09-12</td>\n",
              "      <td>2783</td>\n",
              "      <td>2020-09-20</td>\n",
              "      <td>29</td>\n",
              "      <td>2020-09-22</td>\n",
              "      <td>2892</td>\n",
              "      <td>2020-10-30</td>\n",
              "      <td>1650</td>\n",
              "      <td>2020-10-03</td>\n",
              "      <td>25</td>\n",
              "      <td>2020-10-01</td>\n",
              "      <td>2161</td>\n",
              "    </tr>\n",
              "  </tbody>\n",
              "</table>\n",
              "</div>"
            ],
            "text/plain": [
              "                                              August         ...     October       \n",
              "                                           Confirmed         ...       Cured       \n",
              "                                                Date Number  ...        Date Number\n",
              "State                                                        ...                   \n",
              "Andaman and Nicobar Islands               2020-08-14    149  ...  2020-10-19     24\n",
              "Andhra Pradesh                            2020-08-26  10830  ...  2020-10-03   7798\n",
              "Arunachal Pradesh                         2020-08-30    157  ...  2020-10-07    431\n",
              "Assam                                     2020-08-12   4593  ...  2020-10-25   2961\n",
              "Bihar                                     2020-08-09   4157  ...  2020-10-05   1537\n",
              "Chandigarh                                2020-08-29    261  ...  2020-10-06    238\n",
              "Chhattisgarh                              2020-08-29   1513  ...  2020-10-06   3484\n",
              "Dadra and Nagar Haveli and Daman and Diu  2020-08-09    108  ...  2020-10-02     20\n",
              "Delhi                                     2020-08-30   2024  ...  2020-10-30   4433\n",
              "Goa                                       2020-08-13    570  ...  2020-10-06    594\n",
              "Gujarat                                   2020-08-29   1282  ...  2020-10-07   1546\n",
              "Haryana                                   2020-08-26   1397  ...  2020-10-01   2161\n",
              "\n",
              "[12 rows x 18 columns]"
            ]
          },
          "metadata": {},
          "execution_count": 21
        }
      ]
    },
    {
      "cell_type": "markdown",
      "metadata": {
        "id": "AwosStQWgl2J"
      },
      "source": [
        "###Q2"
      ]
    },
    {
      "cell_type": "markdown",
      "metadata": {
        "id": "DYjwR5gudWBn"
      },
      "source": [
        "Use appropriate year-month string date conversions."
      ]
    },
    {
      "cell_type": "code",
      "metadata": {
        "id": "oE-kH6-qBMyd"
      },
      "source": [
        "covid.Date=[pd.to_datetime(d) for d in covid.Date]"
      ],
      "execution_count": null,
      "outputs": []
    },
    {
      "cell_type": "code",
      "metadata": {
        "id": "9mbKJdrLBhXm"
      },
      "source": [
        "covid.Date=[datetime.datetime.date(f) for f in covid.Date]"
      ],
      "execution_count": null,
      "outputs": []
    },
    {
      "cell_type": "code",
      "metadata": {
        "colab": {
          "base_uri": "https://localhost:8080/"
        },
        "id": "Dc9pJ-lCLpyo",
        "outputId": "b1e8db05-3570-4e83-a8f8-9cd97c25d0b5"
      },
      "source": [
        "type(covid.Date[0])"
      ],
      "execution_count": null,
      "outputs": [
        {
          "output_type": "execute_result",
          "data": {
            "text/plain": [
              "datetime.date"
            ]
          },
          "metadata": {},
          "execution_count": 7
        }
      ]
    },
    {
      "cell_type": "code",
      "metadata": {
        "colab": {
          "base_uri": "https://localhost:8080/",
          "height": 35
        },
        "id": "ZDzBOQszeGfE",
        "outputId": "07f4af6a-a015-4f87-c516-85d73fd4b119"
      },
      "source": [
        "#Q2 a Find the state that ended 2020 with the most number of cured cases\n",
        "covid.loc[covid[covid['Date']==datetime.date(2020,12,31)].Cured.idxmax()]['State/UnionTerritory']"
      ],
      "execution_count": null,
      "outputs": [
        {
          "output_type": "execute_result",
          "data": {
            "application/vnd.google.colaboratory.intrinsic+json": {
              "type": "string"
            },
            "text/plain": [
              "'Maharashtra'"
            ]
          },
          "metadata": {},
          "execution_count": 10
        }
      ]
    },
    {
      "cell_type": "code",
      "metadata": {
        "id": "GRveWWoXCUaF"
      },
      "source": [
        "#2 b Find the rate of increase in confirmed cases after Durga Pujo in West Bengal and Chhath puja in Bihar\n",
        "wb7oct=int(covid[(covid['State/UnionTerritory']=='West Bengal') & (covid['Date']==datetime.date(2020,10,7))].Confirmed.values)\n",
        "wb17oct=int(covid[(covid['State/UnionTerritory']=='West Bengal') & (covid['Date']==datetime.date(2020,10,17))].Confirmed.values)\n",
        "wb27oct=int(covid[(covid['State/UnionTerritory']=='West Bengal') & (covid['Date']==datetime.date(2020,10,27))].Confirmed.values)\n",
        "k,y=wb17oct-wb7oct,wb27oct-wb17oct\n",
        "wbdpr=[(k/wb7oct)*100,(y/wb17oct)*100,((y-k)/k)*100]\n",
        "\n",
        "br8nov=int(covid[(covid['State/UnionTerritory']=='Bihar') & (covid['Date']==datetime.date(2020,11,8))].Confirmed.values)\n",
        "br13nov=int(covid[(covid['State/UnionTerritory']=='Bihar') & (covid['Date']==datetime.date(2020,11,13))].Confirmed.values)\n",
        "br18nov=int(covid[(covid['State/UnionTerritory']=='Bihar') & (covid['Date']==datetime.date(2020,11,18))].Confirmed.values)\n",
        "a,b=br13nov-br8nov,br18nov-br13nov\n",
        "brcpr=[(a/br8nov)*100,(b/br13nov)*100,((b-a)/a)*100]\n",
        "\n",
        "pujorates=pd.DataFrame(index=['West Bengal','Bihar'],columns=['Rate Before','Rate After','Increase Rate'])\n",
        "pujorates.loc['West Bengal']=wbdpr\n",
        "pujorates.loc['Bihar']=brcpr"
      ],
      "execution_count": null,
      "outputs": []
    },
    {
      "cell_type": "code",
      "metadata": {
        "colab": {
          "base_uri": "https://localhost:8080/",
          "height": 110
        },
        "id": "w5ObuRtMKK4l",
        "outputId": "38a475b4-6518-4f11-85c2-ce8e99530660"
      },
      "source": [
        "pujorates"
      ],
      "execution_count": null,
      "outputs": [
        {
          "output_type": "execute_result",
          "data": {
            "text/html": [
              "<div>\n",
              "<style scoped>\n",
              "    .dataframe tbody tr th:only-of-type {\n",
              "        vertical-align: middle;\n",
              "    }\n",
              "\n",
              "    .dataframe tbody tr th {\n",
              "        vertical-align: top;\n",
              "    }\n",
              "\n",
              "    .dataframe thead th {\n",
              "        text-align: right;\n",
              "    }\n",
              "</style>\n",
              "<table border=\"1\" class=\"dataframe\">\n",
              "  <thead>\n",
              "    <tr style=\"text-align: right;\">\n",
              "      <th></th>\n",
              "      <th>Rate Before</th>\n",
              "      <th>Rate After</th>\n",
              "      <th>Increase Rate</th>\n",
              "    </tr>\n",
              "  </thead>\n",
              "  <tbody>\n",
              "    <tr>\n",
              "      <th>West Bengal</th>\n",
              "      <td>13.0443</td>\n",
              "      <td>12.9743</td>\n",
              "      <td>12.4381</td>\n",
              "    </tr>\n",
              "    <tr>\n",
              "      <th>Bihar</th>\n",
              "      <td>1.624</td>\n",
              "      <td>1.11079</td>\n",
              "      <td>-30.4905</td>\n",
              "    </tr>\n",
              "  </tbody>\n",
              "</table>\n",
              "</div>"
            ],
            "text/plain": [
              "            Rate Before Rate After Increase Rate\n",
              "West Bengal     13.0443    12.9743       12.4381\n",
              "Bihar             1.624    1.11079      -30.4905"
            ]
          },
          "metadata": {},
          "execution_count": 11
        }
      ]
    },
    {
      "cell_type": "markdown",
      "metadata": {
        "id": "ONsTuCrZdIkR"
      },
      "source": [
        "###Q3"
      ]
    },
    {
      "cell_type": "markdown",
      "metadata": {
        "id": "-W6BQWtyfeEf"
      },
      "source": [
        "Create subplots (line graph) for showing total number of cured cases month-wise from April 2020 to March\n",
        "2021 in four states namely Karnataka, Gujarat, Haryana, and Uttar Pradesh.\n"
      ]
    },
    {
      "cell_type": "code",
      "metadata": {
        "id": "qXIy3G65UXd6"
      },
      "source": [
        "ka,guj,har,up=[],[],[],[]\n",
        "for i in range(4,13):\n",
        "  if i in [4,6,9,11]:\n",
        "    ka.append(int(covid[(covid['State/UnionTerritory']=='Karnataka') & (covid['Date']==datetime.date(2020,i,30))].Cured.values))\n",
        "    guj.append(int(covid[(covid['State/UnionTerritory']=='Gujarat') & (covid['Date']==datetime.date(2020,i,30))].Cured.values))\n",
        "    har.append(int(covid[(covid['State/UnionTerritory']=='Haryana') & (covid['Date']==datetime.date(2020,i,30))].Cured.values))\n",
        "    up.append(int(covid[(covid['State/UnionTerritory']=='Uttar Pradesh') & (covid['Date']==datetime.date(2020,i,30))].Cured.values))\n",
        "  else:\n",
        "    ka.append(int(covid[(covid['State/UnionTerritory']=='Karnataka') & (covid['Date']==datetime.date(2020,i,31))].Cured.values))\n",
        "    guj.append(int(covid[(covid['State/UnionTerritory']=='Gujarat') & (covid['Date']==datetime.date(2020,i,31))].Cured.values))\n",
        "    har.append(int(covid[(covid['State/UnionTerritory']=='Haryana') & (covid['Date']==datetime.date(2020,i,31))].Cured.values))\n",
        "    up.append(int(covid[(covid['State/UnionTerritory']=='Uttar Pradesh') & (covid['Date']==datetime.date(2020,i,31))].Cured.values))\n",
        "    \n",
        "for i in range(1,4):\n",
        "  if i in [1,3]:\n",
        "    ka.append(int(covid[(covid['State/UnionTerritory']=='Karnataka') & (covid['Date']==datetime.date(2021,i,30))].Cured.values))\n",
        "    guj.append(int(covid[(covid['State/UnionTerritory']=='Gujarat') & (covid['Date']==datetime.date(2021,i,30))].Cured.values))\n",
        "    har.append(int(covid[(covid['State/UnionTerritory']=='Haryana') & (covid['Date']==datetime.date(2021,i,30))].Cured.values))\n",
        "    up.append(int(covid[(covid['State/UnionTerritory']=='Uttar Pradesh') & (covid['Date']==datetime.date(2021,i,30))].Cured.values))\n",
        "  else:\n",
        "    ka.append(int(covid[(covid['State/UnionTerritory']=='Karnataka') & (covid['Date']==datetime.date(2021,i,28))].Cured.values))\n",
        "    guj.append(int(covid[(covid['State/UnionTerritory']=='Gujarat') & (covid['Date']==datetime.date(2021,i,28))].Cured.values))\n",
        "    har.append(int(covid[(covid['State/UnionTerritory']=='Haryana') & (covid['Date']==datetime.date(2021,i,28))].Cured.values))\n",
        "    up.append(int(covid[(covid['State/UnionTerritory']=='Uttar Pradesh') & (covid['Date']==datetime.date(2021,i,28))].Cured.values))\n"
      ],
      "execution_count": null,
      "outputs": []
    },
    {
      "cell_type": "code",
      "metadata": {
        "colab": {
          "base_uri": "https://localhost:8080/"
        },
        "id": "OQ4KRG8X5IpY",
        "outputId": "441b5515-2cf1-4e98-9390-e1408fff4bff"
      },
      "source": [
        "fig,axes=plt.subplots(2,2,sharey=True,sharex=True)\n",
        "states=['Karnataka','Gujarat','Haryana','Uttar Pradesh']\n",
        "months=[\"April\",\"May\",\"June\",\n",
        "        \"July\",\"August\",\"September\",\n",
        "        \"October\",\"November\",\"December'20\",\n",
        "        \"Jan'21\",\"Feb,21\",\"Mar'21\"]\n",
        "c=0\n",
        "hy=[ka,guj,har,up]\n",
        "colours=['r-','g-.','b--','r-']\n",
        "col=['grey','r','C1','orange']\n",
        "for f in range(2):\n",
        "  for t in range(2):\n",
        "    axes[f,t].plot(months,hy[c],colours[c])\n",
        "    axes[f,t].text(1,900000,states[c])\n",
        "    axes[f,t].set_xticklabels(months,rotation='vertical') \n",
        "    axes[f,t].fill_between(months,hy[c],color=col[c],alpha=0.8)\n",
        "    axes[f,t].spines['top'].set_color('green')\n",
        "    axes[f,t].spines['bottom'].set_color('red')\n",
        "    axes[f,t].spines['right'].set_color('black')\n",
        "    axes[f,t].spines['left'].set_color('blue')\n",
        "    axes[f,t].set_xlabel('Months')\n",
        "    axes[f,t].set_ylabel('Cured values * 10^6')\n",
        "    c+=1\n",
        "fig.suptitle('Cured values of 4 states for 12 months')\n",
        "plt.subplots_adjust(wspace=0.2,hspace=0)"
      ],
      "execution_count": null,
      "outputs": [
        {
          "output_type": "display_data",
          "data": {
            "image/png": "[encoded data removed]",
            "text/plain": [
              "<Figure size 936x936 with 4 Axes>"
            ]
          },
          "metadata": {
            "needs_background": "light"
          }
        }
      ]
    },
    {
      "cell_type": "markdown",
      "metadata": {
        "id": "oCFhKT5Wc9rr"
      },
      "source": [
        "###Q4"
      ]
    },
    {
      "cell_type": "markdown",
      "metadata": {
        "id": "NlblJ5UvgQnu"
      },
      "source": [
        "Compare the deaths due to Covid-19 in the months of May 2020 and May 2021 for the states namely\n",
        "Karnataka, Delhi, and Madhya Pradesh using stacked bars"
      ]
    },
    {
      "cell_type": "code",
      "metadata": {
        "id": "ZEBs7YBjBxtD"
      },
      "source": [
        "types=['May-2020','May-2021']\n",
        "karn,delhi,mad=pd.Series(dtype='int64',index=types),pd.Series(dtype='int64',index=types),pd.Series(dtype='int64',index=types)"
      ],
      "execution_count": null,
      "outputs": []
    },
    {
      "cell_type": "code",
      "metadata": {
        "id": "czcOl43NCEZm"
      },
      "source": [
        "karn['May-2020']=int(covid[(covid['State/UnionTerritory']=='Karnataka') & (covid.Date==datetime.date(2020,5,31))].Deaths.values)-int(covid[(covid['State/UnionTerritory']=='Karnataka') & (covid.Date==datetime.date(2020,4,30))].Deaths.values)\n",
        "karn['May-2021']=int(covid[(covid['State/UnionTerritory']=='Karnataka') & (covid.Date==datetime.date(2021,5,31))].Deaths.values)-int(covid[(covid['State/UnionTerritory']=='Karnataka') & (covid.Date==datetime.date(2021,4,30))].Deaths.values)\n",
        "delhi['May-2020']=int(covid[(covid['State/UnionTerritory']=='Delhi') & (covid.Date==datetime.date(2020,5,31))].Deaths.values)-int(covid[(covid['State/UnionTerritory']=='Delhi') & (covid.Date==datetime.date(2020,4,30))].Deaths.values)\n",
        "delhi['May-2021']=int(covid[(covid['State/UnionTerritory']=='Delhi') & (covid.Date==datetime.date(2021,5,31))].Deaths.values)-int(covid[(covid['State/UnionTerritory']=='Delhi') & (covid.Date==datetime.date(2021,4,30))].Deaths.values)\n",
        "mad['May-2020']=int(covid[(covid['State/UnionTerritory']=='Madhya Pradesh') & (covid.Date==datetime.date(2020,5,31))].Deaths.values)-int(covid[(covid['State/UnionTerritory']=='Madhya Pradesh') & (covid.Date==datetime.date(2020,4,30))].Deaths.values)\n",
        "mad['May-2021']=int(covid[(covid['State/UnionTerritory']=='Madhya Pradesh') & (covid.Date==datetime.date(2021,5,31))].Deaths.values)-int(covid[(covid['State/UnionTerritory']=='Madhya Pradesh') & (covid.Date==datetime.date(2021,4,30))].Deaths.values)"
      ],
      "execution_count": null,
      "outputs": []
    },
    {
      "cell_type": "code",
      "metadata": {
        "colab": {
          "base_uri": "https://localhost:8080/",
          "height": 142
        },
        "id": "mvjL1NdfEuM_",
        "outputId": "ef455018-954d-466c-9bbf-e09b19f4af98"
      },
      "source": [
        "q4=pd.DataFrame([karn,delhi,mad])\n",
        "q4.index=['Karnataka','Delhi','Madhya Pradesh']\n",
        "q4"
      ],
      "execution_count": null,
      "outputs": [
        {
          "output_type": "execute_result",
          "data": {
            "text/html": [
              "<div>\n",
              "<style scoped>\n",
              "    .dataframe tbody tr th:only-of-type {\n",
              "        vertical-align: middle;\n",
              "    }\n",
              "\n",
              "    .dataframe tbody tr th {\n",
              "        vertical-align: top;\n",
              "    }\n",
              "\n",
              "    .dataframe thead th {\n",
              "        text-align: right;\n",
              "    }\n",
              "</style>\n",
              "<table border=\"1\" class=\"dataframe\">\n",
              "  <thead>\n",
              "    <tr style=\"text-align: right;\">\n",
              "      <th></th>\n",
              "      <th>May-2020</th>\n",
              "      <th>May-2021</th>\n",
              "    </tr>\n",
              "  </thead>\n",
              "  <tbody>\n",
              "    <tr>\n",
              "      <th>Karnataka</th>\n",
              "      <td>27</td>\n",
              "      <td>13373</td>\n",
              "    </tr>\n",
              "    <tr>\n",
              "      <th>Delhi</th>\n",
              "      <td>360</td>\n",
              "      <td>8379</td>\n",
              "    </tr>\n",
              "    <tr>\n",
              "      <th>Madhya Pradesh</th>\n",
              "      <td>213</td>\n",
              "      <td>2500</td>\n",
              "    </tr>\n",
              "  </tbody>\n",
              "</table>\n",
              "</div>"
            ],
            "text/plain": [
              "                May-2020  May-2021\n",
              "Karnataka             27     13373\n",
              "Delhi                360      8379\n",
              "Madhya Pradesh       213      2500"
            ]
          },
          "metadata": {},
          "execution_count": 19
        }
      ]
    },
    {
      "cell_type": "code",
      "metadata": {
        "colab": {
          "base_uri": "https://localhost:8080/",
          "height": 928
        },
        "id": "cKV8XRAgDUdD",
        "outputId": "74b5ae02-f011-4a95-972b-b77ab014ba4f"
      },
      "source": [
        "q4.plot.bar(stacked=True,xlabel='States',ylabel='Death toll',title='Comparison of deaths between 3 states',color=[sns.color_palette('rocket'),sns.color_palette('Blues_d')])\n"
      ],
      "execution_count": null,
      "outputs": [
        {
          "output_type": "execute_result",
          "data": {
            "text/plain": [
              "<matplotlib.axes._subplots.AxesSubplot at 0x7fb9565a62d0>"
            ]
          },
          "metadata": {},
          "execution_count": 83
        },
        {
          "output_type": "display_data",
          "data": {
            "image/png": "[encoded data removed]",
            "text/plain": [
              "<Figure size 936x936 with 1 Axes>"
            ]
          },
          "metadata": {
            "needs_background": "light"
          }
        }
      ]
    },
    {
      "cell_type": "markdown",
      "metadata": {
        "id": "TqZYGFVPdgYZ"
      },
      "source": [
        "###Q5"
      ]
    },
    {
      "cell_type": "markdown",
      "metadata": {
        "id": "Ets_N4zBgYwY"
      },
      "source": [
        "Make a graph to show the month wise relation between number of confirmed\n",
        "Covid-19 cases and Deaths in Uttar Pradesh."
      ]
    },
    {
      "cell_type": "code",
      "metadata": {
        "id": "w9CsEzIXF1aK"
      },
      "source": [
        "d,c=list(),list()\n",
        "for f in range(len(covid)):\n",
        "  if covid.loc[f]['State/UnionTerritory']=='Uttar Pradesh':\n",
        "    if covid.loc[f].Date.month in [1,3,5,7,8,10,12]:\n",
        "      if covid.loc[f].Date.day==31:\n",
        "        d.append(covid.loc[f].Deaths)\n",
        "        c.append(covid.loc[f].Confirmed)\n",
        "    elif covid.loc[f].Date.month==2:\n",
        "      if covid.loc[f].Date.day==28:\n",
        "        d.append(covid.loc[f].Deaths)\n",
        "        c.append(covid.loc[f].Confirmed)\n",
        "    else:\n",
        "      if covid.loc[f].Date.day==30:\n",
        "        d.append(covid.loc[f].Deaths)\n",
        "        c.append(covid.loc[f].Confirmed)"
      ],
      "execution_count": null,
      "outputs": []
    },
    {
      "cell_type": "code",
      "metadata": {
        "colab": {
          "base_uri": "https://localhost:8080/"
        },
        "id": "nHnVqzxOgaNi",
        "outputId": "5724b53a-ff58-4f0a-f1bc-ae94d232a37d"
      },
      "source": [
        "len(c),len(d)"
      ],
      "execution_count": null,
      "outputs": [
        {
          "output_type": "execute_result",
          "data": {
            "text/plain": [
              "(17, 17)"
            ]
          },
          "metadata": {},
          "execution_count": 11
        }
      ]
    },
    {
      "cell_type": "code",
      "metadata": {
        "id": "3Do4k20xKRg2"
      },
      "source": [
        "c.append(int(covid[(covid['State/UnionTerritory']=='Uttar Pradesh') & (covid['Date']==datetime.date(2021,8,11))].Confirmed.values))\n",
        "d.append(int(covid[(covid['State/UnionTerritory']=='Uttar Pradesh') & (covid['Date']==datetime.date(2021,8,11))].Deaths.values))"
      ],
      "execution_count": null,
      "outputs": []
    },
    {
      "cell_type": "code",
      "metadata": {
        "colab": {
          "base_uri": "https://localhost:8080/"
        },
        "id": "7eCnugVLPFUV",
        "outputId": "b91a62b8-be95-464c-dfbb-abf31a17eb78"
      },
      "source": [
        "len(c),len(d)"
      ],
      "execution_count": null,
      "outputs": [
        {
          "output_type": "execute_result",
          "data": {
            "text/plain": [
              "(18, 18)"
            ]
          },
          "metadata": {},
          "execution_count": 13
        }
      ]
    },
    {
      "cell_type": "code",
      "metadata": {
        "id": "O4bj0C1oVq3k",
        "colab": {
          "base_uri": "https://localhost:8080/",
          "height": 738
        },
        "outputId": "0cd54170-83b7-49c2-81e1-bff78c7b27eb"
      },
      "source": [
        "fig=plt.figure(figsize=[10,10])\n",
        "ax=fig.add_subplot(1,1,1)\n",
        "months=[\"March\",\"April\",\"May\",\"June\",\n",
        "        \"July\",\"August\",\"September\",\n",
        "        \"October\",\"November\",\"December'20\",\n",
        "        \"Jan'21\",\"Feb'21\",\"Mar'21\",\"Apr'21\",\n",
        "        \"May'21\",\"Jun'21\",\"Jul'21\",\"Aug'21\"]\n",
        "ax.set_xticklabels(months,rotation='vertical')\n",
        "ax.bar(months,c,color=sns.color_palette('rocket_r'))\n",
        "ax.bar(months,d,color=sns.color_palette('Greens_d'))\n",
        "ax.legend(['Confirmed','Deaths'])\n",
        "ax.set_xlabel('Months')\n",
        "ax.set_ylabel('Count*10^6')\n",
        "ax.set_title('Relation between confirmed and deaths in Uttar Pradesh')"
      ],
      "execution_count": null,
      "outputs": [
        {
          "output_type": "execute_result",
          "data": {
            "text/plain": [
              "Text(0.5, 1.0, 'Relation between confirmed and deaths in Uttar Pradesh')"
            ]
          },
          "metadata": {},
          "execution_count": 16
        },
        {
          "output_type": "display_data",
          "data": {
            "image/png": "[encoded data removed]",
            "text/plain": [
              "<Figure size 720x720 with 1 Axes>"
            ]
          },
          "metadata": {
            "needs_background": "light"
          }
        }
      ]
    }
  ]
}